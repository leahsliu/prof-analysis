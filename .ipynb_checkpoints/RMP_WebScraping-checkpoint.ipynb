{
 "cells": [
  {
   "cell_type": "code",
   "execution_count": 48,
   "id": "b1916748",
   "metadata": {
    "scrolled": false
   },
   "outputs": [],
   "source": [
    "from selenium import webdriver\n",
    "from selenium.webdriver.common.keys import Keys\n",
    "from selenium.webdriver.common.by import By\n",
    "from selenium.webdriver.support.ui import WebDriverWait\n",
    "from selenium.webdriver.support import expected_conditions as EC\n",
    "from selenium.webdriver.common.action_chains import ActionChains\n",
    "import time\n",
    "import math"
   ]
  },
  {
   "cell_type": "code",
   "execution_count": 49,
   "id": "c827b373",
   "metadata": {},
   "outputs": [
    {
     "name": "stderr",
     "output_type": "stream",
     "text": [
      "C:\\Users\\leah7\\AppData\\Local\\Temp\\ipykernel_10108\\3522902804.py:2: DeprecationWarning: executable_path has been deprecated, please pass in a Service object\n",
      "  driver = webdriver.Chrome(PATH)\n"
     ]
    }
   ],
   "source": [
    "PATH = r\"C:\\Users\\leah7\\OneDrive\\Desktop\\Projects\\chromedriver.exe\"\n",
    "driver = webdriver.Chrome(PATH)\n",
    "driver.get(\"https://www.ratemyprofessors.com/professor?tid=9787\")\n",
    "#driver.get(\"https://www.ratemyprofessors.com/search/teachers?query=*&sid=298\")\n",
    "\n",
    "#closing cookie disclaimer\n",
    "cookie_button = driver.find_element(By.XPATH, \"//div[starts-with(@class, 'FullPageModal__')]//button\")\n",
    "cookie_button.click()\n",
    "\n",
    "#exits the browser\n",
    "#driver.quit()"
   ]
  },
  {
   "cell_type": "markdown",
   "id": "8a5fb62b",
   "metadata": {},
   "source": [
    "## Automate the load more button to show all reviews"
   ]
  },
  {
   "cell_type": "code",
   "execution_count": 50,
   "id": "76d53e2b",
   "metadata": {},
   "outputs": [],
   "source": [
    "num_ratings = driver.find_element(By.XPATH, \"//a[@href='#ratingsList']\")\n",
    "num_ratings = int(num_ratings.text.split()[0])"
   ]
  },
  {
   "cell_type": "code",
   "execution_count": 51,
   "id": "148ec53f",
   "metadata": {},
   "outputs": [
    {
     "name": "stdout",
     "output_type": "stream",
     "text": [
      "54\n"
     ]
    }
   ],
   "source": [
    "print(num_ratings)"
   ]
  },
  {
   "cell_type": "code",
   "execution_count": 52,
   "id": "ed8c121e",
   "metadata": {},
   "outputs": [
    {
     "name": "stdout",
     "output_type": "stream",
     "text": [
      "4\n"
     ]
    }
   ],
   "source": [
    "click_total = math.ceil((num_ratings - 20) / 10)\n",
    "print(click_total)\n",
    "\n",
    "if click_total >= 1:\n",
    "    for i in range(click_total):\n",
    "        load_more_button = driver.find_element(By.XPATH, \"//button[text()='Load More Ratings']\")\n",
    "        \n",
    "        #get the y coordinate - 100 for browser to automatically scroll down to load more button\n",
    "        y = load_more_button.location[\"y\"] - 100\n",
    "        \n",
    "        #scroll down to page\n",
    "        driver.execute_script(f\"window.scrollTo(0, {y});\")\n",
    "        load_more_button.click()\n",
    "        \n",
    "        time.sleep(1)"
   ]
  },
  {
   "cell_type": "markdown",
   "id": "be945d66",
   "metadata": {},
   "source": [
    "## Collect Rate My Professor Review Data"
   ]
  },
  {
   "cell_type": "code",
   "execution_count": 193,
   "id": "2fc726ae",
   "metadata": {},
   "outputs": [],
   "source": [
    "professor_name = driver.find_element(By.XPATH, \"//div[starts-with(@class, 'NameTitle__Name')]\").text\n",
    "department = driver.find_element(By.XPATH, \"//div[starts-with(@class, 'NameTitle__Title')]//b\").text.split(\" department\")[:-1]\n",
    "department = \" \".join(department)\n",
    "university = driver.find_element(By.XPATH, \"//a[@href='/school?sid=298']\").text\n",
    "\n",
    "all_ratings = driver.find_elements(By.XPATH, \"//div[starts-with(@class, 'Rating__RatingBody')]\")\n",
    "\n",
    "reviews = getReviewData(all_ratings)"
   ]
  },
  {
   "cell_type": "code",
   "execution_count": 196,
   "id": "1f549f10",
   "metadata": {},
   "outputs": [],
   "source": [
    "#loads all professor reviews and collects all relevant information in page\n",
    "def getReviewData(rating):\n",
    "    data = []\n",
    "    quality = driver.find_elements(By.XPATH, \"//div[starts-with(@class, 'CardNumRating__CardNumRatingNumber')]\")\n",
    "    quality = [quality[i] for i in range(len(quality)) if i%2==0]\n",
    "    \n",
    "    difficulty = driver.find_elements(By.XPATH, \"//div[starts-with(@class, 'CardNumRating__CardNumRatingNumber')]\")\n",
    "    difficulty = [difficulty[i] for i in range(len(difficulty)) if i%2==1]\n",
    "    \n",
    "    header = driver.find_elements(By.XPATH, \"//div[starts-with(@class, 'RatingHeader__ClassInfoWrapper')]\")\n",
    "    header = [header[i] for i in range(len(header)) if i%2 == 1]\n",
    "    \n",
    "    class_id = [x.text.split(\"\\n\")[0] for x in header]\n",
    "\n",
    "    comment = driver.find_elements(By.XPATH, \"//div[starts-with(@class, 'Comments__StyledComments')]\")\n",
    "\n",
    "    #rating_tag = driver.find_elements(By.XPATH, \"//div[starts-with(@class, 'RatingTags__StyledTags')]\")\n",
    "\n",
    "    date = driver.find_elements(By.XPATH, \"//div[starts-with(@class, 'TimeStamp')]\")\n",
    "    date = [date[i] for i in range(len(date)) if i%2 == 1]\n",
    "    \n",
    "    for i in range(len(quality)):\n",
    "        data.append([professor_name, department, university, class_id[i], date[i].text, \\\n",
    "                     quality[i].text, difficulty[i].text, comment[i].text])\n",
    "    \n",
    "    return data"
   ]
  }
 ],
 "metadata": {
  "kernelspec": {
   "display_name": "Python 3 (ipykernel)",
   "language": "python",
   "name": "python3"
  },
  "language_info": {
   "codemirror_mode": {
    "name": "ipython",
    "version": 3
   },
   "file_extension": ".py",
   "mimetype": "text/x-python",
   "name": "python",
   "nbconvert_exporter": "python",
   "pygments_lexer": "ipython3",
   "version": "3.8.13"
  }
 },
 "nbformat": 4,
 "nbformat_minor": 5
}
