{
 "cells": [
  {
   "cell_type": "code",
   "execution_count": 1,
   "id": "b1916748",
   "metadata": {
    "scrolled": false
   },
   "outputs": [],
   "source": [
    "from selenium import webdriver\n",
    "from selenium.webdriver.common.keys import Keys\n",
    "from selenium.webdriver.common.by import By\n",
    "from selenium.webdriver.support.ui import WebDriverWait\n",
    "from selenium.webdriver.support import expected_conditions as EC\n",
    "from selenium.webdriver.common.action_chains import ActionChains\n",
    "import time\n",
    "import math\n",
    "import numpy as np\n",
    "import pandas as pd"
   ]
  },
  {
   "cell_type": "markdown",
   "id": "8e9c90d0",
   "metadata": {},
   "source": [
    "# Part I: Web Scraping"
   ]
  },
  {
   "cell_type": "code",
   "execution_count": 2,
   "id": "c827b373",
   "metadata": {},
   "outputs": [
    {
     "name": "stderr",
     "output_type": "stream",
     "text": [
      "C:\\Users\\leah7\\AppData\\Local\\Temp\\ipykernel_18224\\4124892917.py:2: DeprecationWarning: executable_path has been deprecated, please pass in a Service object\n",
      "  driver = webdriver.Chrome(PATH)\n"
     ]
    }
   ],
   "source": [
    "PATH = r\"C:\\Users\\leah7\\OneDrive\\Desktop\\Projects\\chromedriver.exe\"\n",
    "driver = webdriver.Chrome(PATH)\n",
    "driver.get(\"https://www.ratemyprofessors.com/professor?tid=9787\")\n",
    "\n",
    "#closing cookie disclaimer\n",
    "cookie_button = driver.find_element(By.XPATH, \"//div[starts-with(@class, 'FullPageModal__')]//button\")\n",
    "cookie_button.click()\n",
    "\n",
    "#exits the browser\n",
    "#driver.quit()"
   ]
  },
  {
   "cell_type": "markdown",
   "id": "7a4805aa",
   "metadata": {},
   "source": [
    "## Automate the load more button to show all reviews"
   ]
  },
  {
   "cell_type": "code",
   "execution_count": 3,
   "id": "1ea6b727",
   "metadata": {},
   "outputs": [],
   "source": [
    "num_ratings = driver.find_element(By.XPATH, \"//a[@href='#ratingsList']\")\n",
    "num_ratings = int(num_ratings.text.split()[0])"
   ]
  },
  {
   "cell_type": "code",
   "execution_count": 4,
   "id": "e73684d1",
   "metadata": {},
   "outputs": [
    {
     "name": "stdout",
     "output_type": "stream",
     "text": [
      "4\n"
     ]
    }
   ],
   "source": [
    "click_total = math.ceil((num_ratings - 20) / 10)\n",
    "print(click_total)\n",
    "\n",
    "if click_total >= 1:\n",
    "    for i in range(click_total):\n",
    "        load_more_button = driver.find_element(By.XPATH, \"//button[text()='Load More Ratings']\")\n",
    "        \n",
    "        #get the y coordinate - 100 for browser to automatically scroll down to load more button\n",
    "        y = load_more_button.location[\"y\"] - 100\n",
    "        \n",
    "        #scroll down to page\n",
    "        driver.execute_script(f\"window.scrollTo(0, {y});\")\n",
    "        load_more_button.click()\n",
    "        \n",
    "        time.sleep(1)"
   ]
  },
  {
   "cell_type": "markdown",
   "id": "a40b717d",
   "metadata": {},
   "source": [
    "## Collect Rate My Professor Review Data"
   ]
  },
  {
   "cell_type": "code",
   "execution_count": 193,
   "id": "3382ecf6",
   "metadata": {},
   "outputs": [],
   "source": [
    "professor_name = driver.find_element(By.XPATH, \"//div[starts-with(@class, 'NameTitle__Name')]\").text\n",
    "department = driver.find_element(By.XPATH, \"//div[starts-with(@class, 'NameTitle__Title')]//b\").text.split(\" department\")[:-1]\n",
    "department = \" \".join(department)\n",
    "university = driver.find_element(By.XPATH, \"//a[@href='/school?sid=298']\").text\n",
    "\n",
    "all_ratings = driver.find_elements(By.XPATH, \"//div[starts-with(@class, 'Rating__RatingBody')]\")\n",
    "\n",
    "reviews = getReviewData(all_ratings)"
   ]
  },
  {
   "cell_type": "code",
   "execution_count": 32,
   "id": "1f549f10",
   "metadata": {},
   "outputs": [],
   "source": [
    "#loads all professor reviews and collects all relevant information in page\n",
    "def getReviewData(rating):\n",
    "    data = []\n",
    "    quality = driver.find_elements(By.XPATH, \"//div[starts-with(@class, 'CardNumRating__CardNumRatingNumber')]\")\n",
    "    quality = [quality[i] for i in range(len(quality)) if i%2==0]\n",
    "    \n",
    "    difficulty = driver.find_elements(By.XPATH, \"//div[starts-with(@class, 'CardNumRating__CardNumRatingNumber')]\")\n",
    "    difficulty = [difficulty[i] for i in range(len(difficulty)) if i%2==1]\n",
    "    \n",
    "    header = driver.find_elements(By.XPATH, \"//div[starts-with(@class, 'RatingHeader__ClassInfoWrapper')]\")\n",
    "    header = [header[i] for i in range(len(header)) if i%2 == 1]\n",
    "    \n",
    "    class_id = [x.text.split(\"\\n\")[0] for x in header]\n",
    "\n",
    "    comment = driver.find_elements(By.XPATH, \"//div[starts-with(@class, 'Comments__StyledComments')]\")\n",
    "\n",
    "    #rating_tag = driver.find_elements(By.XPATH, \"//div[starts-with(@class, 'RatingTags__StyledTags')]\")\n",
    "\n",
    "    date = driver.find_elements(By.XPATH, \"//div[starts-with(@class, 'TimeStamp')]\")\n",
    "    date = [date[i] for i in range(len(date)) if i%2 == 1]\n",
    "    \n",
    "    for i in range(len(quality)):\n",
    "        data.append([professor_name, department, university, class_id[i], date[i].text, \\\n",
    "                     quality[i].text, difficulty[i].text, comment[i].text])\n",
    "    \n",
    "    return data"
   ]
  },
  {
   "cell_type": "markdown",
   "id": "4f0d64ae",
   "metadata": {},
   "source": [
    "## Get All Professor Rate My Professor URLs"
   ]
  },
  {
   "cell_type": "code",
   "execution_count": 33,
   "id": "9112b7b1",
   "metadata": {},
   "outputs": [],
   "source": [
    "def getUniversityData(university_url):\n",
    "    PATH = r\"C:\\Users\\leah7\\OneDrive\\Desktop\\Projects\\chromedriver.exe\"\n",
    "    driver = webdriver.Chrome(PATH)\n",
    "    driver.get(university_url)\n",
    "\n",
    "    cookie_button = driver.find_element(By.XPATH, \"//div[starts-with(@class, 'FullPageModal__')]//button\")\n",
    "    cookie_button.click()\n",
    "    \n",
    "    num_profs = int(driver.find_element(By.XPATH, \"//h1[@data-testid='pagination-header-main-results']\").text.split()[0])\n",
    "\n",
    "    # click show more button to see all professors\n",
    "    click_total = math.floor((num_profs - 8) / 8)\n",
    "\n",
    "    if click_total >= 1:\n",
    "        for i in range(click_total):\n",
    "            load_more_button = driver.find_element(By.XPATH, \"//button[text()='Show More']\")\n",
    "\n",
    "            # get the y coordinate - 100 for browser to automatically scroll down to load more button\n",
    "            y = load_more_button.location[\"y\"] - 100\n",
    "\n",
    "            # scroll down to page\n",
    "            driver.execute_script(f\"window.scrollTo(0, {y});\")\n",
    "            load_more_button.click()\n",
    "\n",
    "            time.sleep(4)\n",
    "    \n",
    "    # grab all professor urls\n",
    "    teachers = driver.find_elements(By.XPATH, \"//a[starts-with(@class, 'TeacherCard__StyledTeacherCard')]\")\n",
    "    teacher_urls = [teacher.get_attribute('href') for teacher in teachers]\n",
    "\n",
    "    return teacher_urls\n",
    "    \n",
    "    "
   ]
  },
  {
   "cell_type": "code",
   "execution_count": 288,
   "id": "821b5529",
   "metadata": {},
   "outputs": [
    {
     "name": "stderr",
     "output_type": "stream",
     "text": [
      "C:\\Users\\leah7\\AppData\\Local\\Temp\\ipykernel_10108\\2799165047.py:3: DeprecationWarning: executable_path has been deprecated, please pass in a Service object\n",
      "  driver = webdriver.Chrome(PATH)\n"
     ]
    }
   ],
   "source": [
    "teacher_urls = getUniversityData('https://www.ratemyprofessors.com/search/teachers?query=*&sid=298')"
   ]
  },
  {
   "cell_type": "code",
   "execution_count": 273,
   "id": "ba93ba9e",
   "metadata": {},
   "outputs": [
    {
     "data": {
      "text/plain": [
       "1794"
      ]
     },
     "execution_count": 273,
     "metadata": {},
     "output_type": "execute_result"
    }
   ],
   "source": [
    "len(teacher_urls)"
   ]
  },
  {
   "cell_type": "code",
   "execution_count": 280,
   "id": "1129a6a8",
   "metadata": {},
   "outputs": [
    {
     "data": {
      "text/plain": [
       "36"
      ]
     },
     "execution_count": 280,
     "metadata": {},
     "output_type": "execute_result"
    }
   ],
   "source": [
    "teacher_urls.index('https://www.ratemyprofessors.com/professor?tid=132361')"
   ]
  },
  {
   "cell_type": "markdown",
   "id": "145441a7",
   "metadata": {},
   "source": [
    "## Saving Professor URLs into CSV"
   ]
  },
  {
   "cell_type": "code",
   "execution_count": 278,
   "id": "278062a4",
   "metadata": {},
   "outputs": [],
   "source": [
    "df = pd.DataFrame(data={\"teacher_urls\": teacher_urls})\n",
    "df.to_csv(\"./file.csv\", sep=',',index=False)"
   ]
  },
  {
   "cell_type": "code",
   "execution_count": 36,
   "id": "a7a97ae2",
   "metadata": {},
   "outputs": [
    {
     "name": "stderr",
     "output_type": "stream",
     "text": [
      "C:\\Users\\leah7\\AppData\\Local\\Temp\\ipykernel_18224\\3172444955.py:3: DeprecationWarning: executable_path has been deprecated, please pass in a Service object\n",
      "  driver = webdriver.Chrome(PATH)\n"
     ]
    }
   ],
   "source": [
    "reviews = []\n",
    "PATH = r\"C:\\Users\\leah7\\OneDrive\\Desktop\\Projects\\chromedriver.exe\"\n",
    "driver = webdriver.Chrome(PATH)\n",
    "\n",
    "for url in teacher_urls[:2]:\n",
    "    #closing cookie disclaimer\n",
    "    driver.get(url)\n",
    "    \n",
    "    #skip professors with 0 ratings\n",
    "    num_ratings = driver.find_element(By.XPATH, \"//div[starts-with(@class, 'RatingValue__NumRatings')]\")\n",
    "    if num_ratings.text == \"No ratings yet. Add a rating.\":\n",
    "        continue\n",
    "    \n",
    "    try:\n",
    "        cookie_button = driver.find_element(By.XPATH, \"//div[starts-with(@class, 'FullPageModal__')]//button\")\n",
    "        cookie_button.click()\n",
    "    except:\n",
    "        pass\n",
    "    \n",
    "    num_ratings = driver.find_element(By.XPATH, \"//a[@href='#ratingsList']\")\n",
    "    num_ratings = int(num_ratings.text.split()[0])\n",
    "    click_total = math.ceil((num_ratings - 20) / 10)\n",
    "    \n",
    "    if click_total >= 1:\n",
    "        for i in range(click_total):\n",
    "            load_more_button = driver.find_element(By.XPATH, \"//button[text()='Load More Ratings']\")\n",
    "\n",
    "            #get the y coordinate - 100 for browser to automatically scroll down to load more button\n",
    "            y = load_more_button.location[\"y\"] - 100\n",
    "\n",
    "            #scroll down to page\n",
    "            driver.execute_script(f\"window.scrollTo(0, {y});\")\n",
    "            load_more_button.click()\n",
    "\n",
    "            time.sleep(2)\n",
    "    \n",
    "    \n",
    "    professor_name = driver.find_element(By.XPATH, \"//div[starts-with(@class, 'NameTitle__Name')]\").text\n",
    "    department = driver.find_element(By.XPATH, \"//div[starts-with(@class, 'NameTitle__Title')]//b\").text.split(\" department\")[:-1]\n",
    "    department = \" \".join(department)\n",
    "    \n",
    "    university = driver.find_element(By.XPATH, \"//div[starts-with(@class, 'NameTitle__Title')]\").text.split(\"department at \")[-1]\n",
    "\n",
    "\n",
    "    all_ratings = driver.find_elements(By.XPATH, \"//div[starts-with(@class, 'Rating__RatingBody')]\")\n",
    "\n",
    "    \n",
    "    reviews += getReviewData(all_ratings)\n",
    "    "
   ]
  },
  {
   "cell_type": "code",
   "execution_count": 282,
   "id": "8587868e",
   "metadata": {},
   "outputs": [
    {
     "data": {
      "text/plain": [
       "17372"
      ]
     },
     "execution_count": 282,
     "metadata": {},
     "output_type": "execute_result"
    }
   ],
   "source": [
    "len(reviews)"
   ]
  },
  {
   "cell_type": "code",
   "execution_count": 284,
   "id": "acc37f79",
   "metadata": {},
   "outputs": [],
   "source": [
    "reviews_df = pd.DataFrame(reviews, columns=['Prof_name','Department','University','Course_ID','Date','Quality','Difficulty','Comment'])"
   ]
  },
  {
   "cell_type": "code",
   "execution_count": 285,
   "id": "0d7d561d",
   "metadata": {},
   "outputs": [
    {
     "data": {
      "text/html": [
       "<div>\n",
       "<style scoped>\n",
       "    .dataframe tbody tr th:only-of-type {\n",
       "        vertical-align: middle;\n",
       "    }\n",
       "\n",
       "    .dataframe tbody tr th {\n",
       "        vertical-align: top;\n",
       "    }\n",
       "\n",
       "    .dataframe thead th {\n",
       "        text-align: right;\n",
       "    }\n",
       "</style>\n",
       "<table border=\"1\" class=\"dataframe\">\n",
       "  <thead>\n",
       "    <tr style=\"text-align: right;\">\n",
       "      <th></th>\n",
       "      <th>Prof_name</th>\n",
       "      <th>Department</th>\n",
       "      <th>University</th>\n",
       "      <th>Course_ID</th>\n",
       "      <th>Date</th>\n",
       "      <th>Quality</th>\n",
       "      <th>Difficulty</th>\n",
       "      <th>Comment</th>\n",
       "    </tr>\n",
       "  </thead>\n",
       "  <tbody>\n",
       "    <tr>\n",
       "      <th>0</th>\n",
       "      <td>Debra Fried</td>\n",
       "      <td>English</td>\n",
       "      <td>Cornell University</td>\n",
       "      <td>ENGL2045</td>\n",
       "      <td>Jan 12th, 2014</td>\n",
       "      <td>2.0</td>\n",
       "      <td>2.0</td>\n",
       "      <td>She rambles A LOT. The entire class consisted ...</td>\n",
       "    </tr>\n",
       "    <tr>\n",
       "      <th>1</th>\n",
       "      <td>Debra Fried</td>\n",
       "      <td>English</td>\n",
       "      <td>Cornell University</td>\n",
       "      <td>FWS2702</td>\n",
       "      <td>Apr 11th, 2010</td>\n",
       "      <td>4.5</td>\n",
       "      <td>3.0</td>\n",
       "      <td>Debra is great. Her lectures, although tangent...</td>\n",
       "    </tr>\n",
       "    <tr>\n",
       "      <th>2</th>\n",
       "      <td>Debra Fried</td>\n",
       "      <td>English</td>\n",
       "      <td>Cornell University</td>\n",
       "      <td>ENGL3610</td>\n",
       "      <td>Apr 4th, 2009</td>\n",
       "      <td>5.0</td>\n",
       "      <td>2.0</td>\n",
       "      <td>Professor Fried is absolutely brilliant! She i...</td>\n",
       "    </tr>\n",
       "    <tr>\n",
       "      <th>3</th>\n",
       "      <td>Debra Fried</td>\n",
       "      <td>English</td>\n",
       "      <td>Cornell University</td>\n",
       "      <td>ENGL201</td>\n",
       "      <td>Nov 15th, 2007</td>\n",
       "      <td>4.0</td>\n",
       "      <td>1.0</td>\n",
       "      <td>Haha oh, Debra... the type of professor who's ...</td>\n",
       "    </tr>\n",
       "    <tr>\n",
       "      <th>4</th>\n",
       "      <td>Debra Fried</td>\n",
       "      <td>English</td>\n",
       "      <td>Cornell University</td>\n",
       "      <td>ENGL201</td>\n",
       "      <td>Aug 31st, 2005</td>\n",
       "      <td>5.0</td>\n",
       "      <td>4.0</td>\n",
       "      <td>Brilliant.</td>\n",
       "    </tr>\n",
       "    <tr>\n",
       "      <th>...</th>\n",
       "      <td>...</td>\n",
       "      <td>...</td>\n",
       "      <td>...</td>\n",
       "      <td>...</td>\n",
       "      <td>...</td>\n",
       "      <td>...</td>\n",
       "      <td>...</td>\n",
       "      <td>...</td>\n",
       "    </tr>\n",
       "    <tr>\n",
       "      <th>17367</th>\n",
       "      <td>Robert Kleinberg</td>\n",
       "      <td>Computer Science</td>\n",
       "      <td>Cornell University</td>\n",
       "      <td>CS4820</td>\n",
       "      <td>May 1st, 2014</td>\n",
       "      <td>5.0</td>\n",
       "      <td>4.0</td>\n",
       "      <td>His lecturing style as well as his mastery of ...</td>\n",
       "    </tr>\n",
       "    <tr>\n",
       "      <th>17368</th>\n",
       "      <td>Robert Kleinberg</td>\n",
       "      <td>Computer Science</td>\n",
       "      <td>Cornell University</td>\n",
       "      <td>CS4820</td>\n",
       "      <td>Jan 27th, 2013</td>\n",
       "      <td>5.0</td>\n",
       "      <td>4.0</td>\n",
       "      <td>Had him for both 4820 and 6820. Great lecturer...</td>\n",
       "    </tr>\n",
       "    <tr>\n",
       "      <th>17369</th>\n",
       "      <td>Robert Kleinberg</td>\n",
       "      <td>Computer Science</td>\n",
       "      <td>Cornell University</td>\n",
       "      <td>CS4820</td>\n",
       "      <td>May 21st, 2010</td>\n",
       "      <td>5.0</td>\n",
       "      <td>5.0</td>\n",
       "      <td>R. Kleinberg is an amazing teacher and super s...</td>\n",
       "    </tr>\n",
       "    <tr>\n",
       "      <th>17370</th>\n",
       "      <td>Caleb Vogt</td>\n",
       "      <td>Writing</td>\n",
       "      <td>Cornell University</td>\n",
       "      <td>BIONB1220</td>\n",
       "      <td>Jan 6th, 2021</td>\n",
       "      <td>5.0</td>\n",
       "      <td>2.0</td>\n",
       "      <td>Caleb was a great teacher and always made clas...</td>\n",
       "    </tr>\n",
       "    <tr>\n",
       "      <th>17371</th>\n",
       "      <td>Caleb Vogt</td>\n",
       "      <td>Writing</td>\n",
       "      <td>Cornell University</td>\n",
       "      <td>BIONB1220</td>\n",
       "      <td>Jun 29th, 2020</td>\n",
       "      <td>4.0</td>\n",
       "      <td>3.0</td>\n",
       "      <td>I really enjoyed Caleb. I thought he did a gre...</td>\n",
       "    </tr>\n",
       "  </tbody>\n",
       "</table>\n",
       "<p>17372 rows × 8 columns</p>\n",
       "</div>"
      ],
      "text/plain": [
       "              Prof_name        Department          University  Course_ID  \\\n",
       "0           Debra Fried           English  Cornell University   ENGL2045   \n",
       "1           Debra Fried           English  Cornell University    FWS2702   \n",
       "2           Debra Fried           English  Cornell University   ENGL3610   \n",
       "3           Debra Fried           English  Cornell University    ENGL201   \n",
       "4           Debra Fried           English  Cornell University    ENGL201   \n",
       "...                 ...               ...                 ...        ...   \n",
       "17367  Robert Kleinberg  Computer Science  Cornell University     CS4820   \n",
       "17368  Robert Kleinberg  Computer Science  Cornell University     CS4820   \n",
       "17369  Robert Kleinberg  Computer Science  Cornell University     CS4820   \n",
       "17370        Caleb Vogt           Writing  Cornell University  BIONB1220   \n",
       "17371        Caleb Vogt           Writing  Cornell University  BIONB1220   \n",
       "\n",
       "                 Date Quality Difficulty  \\\n",
       "0      Jan 12th, 2014     2.0        2.0   \n",
       "1      Apr 11th, 2010     4.5        3.0   \n",
       "2       Apr 4th, 2009     5.0        2.0   \n",
       "3      Nov 15th, 2007     4.0        1.0   \n",
       "4      Aug 31st, 2005     5.0        4.0   \n",
       "...               ...     ...        ...   \n",
       "17367   May 1st, 2014     5.0        4.0   \n",
       "17368  Jan 27th, 2013     5.0        4.0   \n",
       "17369  May 21st, 2010     5.0        5.0   \n",
       "17370   Jan 6th, 2021     5.0        2.0   \n",
       "17371  Jun 29th, 2020     4.0        3.0   \n",
       "\n",
       "                                                 Comment  \n",
       "0      She rambles A LOT. The entire class consisted ...  \n",
       "1      Debra is great. Her lectures, although tangent...  \n",
       "2      Professor Fried is absolutely brilliant! She i...  \n",
       "3      Haha oh, Debra... the type of professor who's ...  \n",
       "4                                             Brilliant.  \n",
       "...                                                  ...  \n",
       "17367  His lecturing style as well as his mastery of ...  \n",
       "17368  Had him for both 4820 and 6820. Great lecturer...  \n",
       "17369  R. Kleinberg is an amazing teacher and super s...  \n",
       "17370  Caleb was a great teacher and always made clas...  \n",
       "17371  I really enjoyed Caleb. I thought he did a gre...  \n",
       "\n",
       "[17372 rows x 8 columns]"
      ]
     },
     "execution_count": 285,
     "metadata": {},
     "output_type": "execute_result"
    }
   ],
   "source": [
    "reviews_df"
   ]
  },
  {
   "cell_type": "code",
   "execution_count": 286,
   "id": "adbf8d77",
   "metadata": {},
   "outputs": [],
   "source": [
    "reviews_df.to_csv(\"./reviews.csv\", sep=',',index=False)"
   ]
  },
  {
   "cell_type": "markdown",
   "id": "95c5d467",
   "metadata": {},
   "source": [
    "This is the end of the web scraping part of the Rate My Professor data analysis. The next thing I will do is data cleaning. \n",
    "// Lots of \"No Comment\" left as placeholders for students who left no written reviews."
   ]
  },
  {
   "cell_type": "markdown",
   "id": "7dda655c",
   "metadata": {},
   "source": [
    "# Part II: Data Analysis"
   ]
  },
  {
   "cell_type": "markdown",
   "id": "4472188d",
   "metadata": {},
   "source": [
    "- Do humanities professors have higher overall ratings?\n",
    "- Do male professors get higher ratings than female professors?\n",
    "- Do professors who teach smaller classes get higher ratings?\n",
    "- Does a professor's gender affect the tag (i.e. hilarious, respected, etc) they get on Rate My Prof? "
   ]
  },
  {
   "cell_type": "code",
   "execution_count": 30,
   "id": "16bfc44e",
   "metadata": {},
   "outputs": [],
   "source": [
    "reviews_df = pd.read_csv('reviews.csv')"
   ]
  },
  {
   "cell_type": "code",
   "execution_count": 46,
   "id": "cb29b4b3",
   "metadata": {},
   "outputs": [],
   "source": [
    "reviews_df['Date'] =  pd.to_datetime(reviews_df['Date'], infer_datetime_format=True)"
   ]
  },
  {
   "cell_type": "code",
   "execution_count": 177,
   "id": "b64be3d0",
   "metadata": {},
   "outputs": [
    {
     "data": {
      "text/plain": [
       "Engineering                              1638\n",
       "Economics                                1207\n",
       "Computer Science                         1051\n",
       "Science                                  1036\n",
       "Mathematics                               833\n",
       "                                         ... \n",
       "Business Ethics                             2\n",
       "Science Technology amp Society              2\n",
       "Chemical amp Biomolecular Engineering       1\n",
       "Chemical & Biomolecular Engineering         1\n",
       "Medicine                                    1\n",
       "Name: Department, Length: 107, dtype: int64"
      ]
     },
     "execution_count": 177,
     "metadata": {},
     "output_type": "execute_result"
    }
   ],
   "source": [
    "reviews_df['Department'].value_counts()"
   ]
  },
  {
   "cell_type": "code",
   "execution_count": 150,
   "id": "7bc9d764",
   "metadata": {},
   "outputs": [],
   "source": [
    "humanities_arts = ['African Studies', 'Archaeology', 'Asian Studies', 'Classics', 'Comparative Literature', \\\n",
    "                   'Writing', 'English', 'Film', 'French', 'German', 'Germanic LanguagesLiterature', 'History',\\\n",
    "                   'Art History', 'Arts Sciences', 'Fine Arts', 'Arts & Sciences', 'Arts amp Sciences', 'Law',\\\n",
    "                   'Linguistics', 'Medieval Studies', 'Music', 'Near Eastern Studies', 'Philosophy', 'Religious Studies',\\\n",
    "                   'Theatre Arts', 'Theater', 'Psychology', 'International Studies', 'Government', 'Literature', \\\n",
    "                  'Anthropology', 'Social Science', 'Political Science', 'Languages', 'Management', 'Communication', \\\n",
    "                  'Business', 'Economics', 'Architecture', 'Theology', 'Sociology', 'Hotel & Restaurant Management',\\\n",
    "                   'Hospitality', 'Humanities', 'Design', 'Accounting', 'Ethnic Studies', 'Education', \\\n",
    "                   'City & Regional Planning', 'Finance', 'Organizational Behavior', 'Business Ethics', \n",
    "                   'Human Resources Management', 'Cultural Studies', 'Labor & Employment Relations', \\\n",
    "                   'Hotel Restaurant Management', 'City Regional Planning', 'Labor amp Employment Relations', \\\n",
    "                  'Marketing', 'Labor Employment Relations', 'American Indian Studies', \"Women's Studies\",\\\n",
    "                   'Hotel amp Restaurant Management','Industrial Studies', 'Industrial Relations']\n",
    "\n",
    "sciences_math = ['Astronomy', 'Biological Sciences', 'Biology', 'Chemistry', 'Computer Science', 'Earth Science', \\\n",
    "                 'Design & Environmental Sciences', 'Information Science', 'Mathematics', 'Physics',\\\n",
    "                 'Science Technology & Society', 'Science Technology Society', 'Science Technology amp Society',\\\n",
    "                 'Statistics', 'Plant Biology', 'Engineering', 'Science', 'Agriculture', 'Electrical Engineering', \\\n",
    "                'Human Ecology', 'Entomology', 'Human Development', 'Animal Science', 'Operations & Information Mgmt.', \\\n",
    "                'Veterinary Sciences', 'Health Science', 'Food Science', 'Civil Engineering', 'Horticulture', \\\n",
    "                 'Molecular Biosciences', 'Materials Science', 'Chemical & Biomolecular Engineering', 'Biomedical Engineering', \\\n",
    "                'Medicine', 'Aerospace Eng. Mechanics', 'Operations amp Information Mgmt.', 'Aerospace Eng. & Mechanics',\\\n",
    "                 'Chemical amp Biomolecular Engineering', 'Natural Resources']\n",
    "\n",
    "misc = ['Physical Ed', 'Not Specified', 'Physical Education']\n",
    "\n",
    "hum_df = reviews_df[reviews_df['Department'].isin(humanities_arts)]\n",
    "stem_df = reviews_df[reviews_df['Department'].isin(sciences_math)]\n",
    "misc_df = reviews_df[reviews_df['Department'].isin(misc)]\n"
   ]
  },
  {
   "cell_type": "code",
   "execution_count": 175,
   "id": "1a57f7f3",
   "metadata": {},
   "outputs": [
    {
     "data": {
      "text/html": [
       "<div>\n",
       "<style scoped>\n",
       "    .dataframe tbody tr th:only-of-type {\n",
       "        vertical-align: middle;\n",
       "    }\n",
       "\n",
       "    .dataframe tbody tr th {\n",
       "        vertical-align: top;\n",
       "    }\n",
       "\n",
       "    .dataframe thead th {\n",
       "        text-align: right;\n",
       "    }\n",
       "</style>\n",
       "<table border=\"1\" class=\"dataframe\">\n",
       "  <thead>\n",
       "    <tr style=\"text-align: right;\">\n",
       "      <th></th>\n",
       "      <th>Prof_name</th>\n",
       "      <th>Department</th>\n",
       "      <th>University</th>\n",
       "      <th>Course_ID</th>\n",
       "      <th>Date</th>\n",
       "      <th>Quality</th>\n",
       "      <th>Difficulty</th>\n",
       "      <th>Comment</th>\n",
       "    </tr>\n",
       "  </thead>\n",
       "  <tbody>\n",
       "    <tr>\n",
       "      <th>1414</th>\n",
       "      <td>Han Cho</td>\n",
       "      <td>Physical Ed</td>\n",
       "      <td>Cornell University</td>\n",
       "      <td>PE1375</td>\n",
       "      <td>2022-09-16</td>\n",
       "      <td>1.0</td>\n",
       "      <td>3.0</td>\n",
       "      <td>When I took the course I will admit, the class...</td>\n",
       "    </tr>\n",
       "    <tr>\n",
       "      <th>1415</th>\n",
       "      <td>Han Cho</td>\n",
       "      <td>Physical Ed</td>\n",
       "      <td>Cornell University</td>\n",
       "      <td>PE1375</td>\n",
       "      <td>2022-05-19</td>\n",
       "      <td>5.0</td>\n",
       "      <td>3.0</td>\n",
       "      <td>cho is clearly passionate about tkd and his in...</td>\n",
       "    </tr>\n",
       "    <tr>\n",
       "      <th>1416</th>\n",
       "      <td>Han Cho</td>\n",
       "      <td>Physical Ed</td>\n",
       "      <td>Cornell University</td>\n",
       "      <td>PE1376</td>\n",
       "      <td>2021-12-06</td>\n",
       "      <td>4.0</td>\n",
       "      <td>3.0</td>\n",
       "      <td>He's extremely knowledgeable and you can reall...</td>\n",
       "    </tr>\n",
       "    <tr>\n",
       "      <th>1417</th>\n",
       "      <td>Han Cho</td>\n",
       "      <td>Physical Ed</td>\n",
       "      <td>Cornell University</td>\n",
       "      <td>PE1376</td>\n",
       "      <td>2020-07-01</td>\n",
       "      <td>5.0</td>\n",
       "      <td>3.0</td>\n",
       "      <td>You'll never hear Sab brag about it, but he's ...</td>\n",
       "    </tr>\n",
       "    <tr>\n",
       "      <th>1418</th>\n",
       "      <td>Han Cho</td>\n",
       "      <td>Physical Ed</td>\n",
       "      <td>Cornell University</td>\n",
       "      <td>PE1375</td>\n",
       "      <td>2019-05-13</td>\n",
       "      <td>3.0</td>\n",
       "      <td>3.0</td>\n",
       "      <td>Fine. Usually engaging. Kinda weird. Im not ve...</td>\n",
       "    </tr>\n",
       "  </tbody>\n",
       "</table>\n",
       "</div>"
      ],
      "text/plain": [
       "     Prof_name   Department          University Course_ID       Date  Quality  \\\n",
       "1414   Han Cho  Physical Ed  Cornell University    PE1375 2022-09-16      1.0   \n",
       "1415   Han Cho  Physical Ed  Cornell University    PE1375 2022-05-19      5.0   \n",
       "1416   Han Cho  Physical Ed  Cornell University    PE1376 2021-12-06      4.0   \n",
       "1417   Han Cho  Physical Ed  Cornell University    PE1376 2020-07-01      5.0   \n",
       "1418   Han Cho  Physical Ed  Cornell University    PE1375 2019-05-13      3.0   \n",
       "\n",
       "      Difficulty                                            Comment  \n",
       "1414         3.0  When I took the course I will admit, the class...  \n",
       "1415         3.0  cho is clearly passionate about tkd and his in...  \n",
       "1416         3.0  He's extremely knowledgeable and you can reall...  \n",
       "1417         3.0  You'll never hear Sab brag about it, but he's ...  \n",
       "1418         3.0  Fine. Usually engaging. Kinda weird. Im not ve...  "
      ]
     },
     "execution_count": 175,
     "metadata": {},
     "output_type": "execute_result"
    }
   ],
   "source": [
    "misc_df.head()"
   ]
  },
  {
   "cell_type": "code",
   "execution_count": 171,
   "id": "3e85ba0c",
   "metadata": {},
   "outputs": [
    {
     "name": "stdout",
     "output_type": "stream",
     "text": [
      "Humanities Quality 3.739987285441831\n",
      "Humanities Difficulty 2.9776435685526597\n",
      "Stem Quality 3.54794346109767\n",
      "Stem Difficulty 3.2593913154208582\n"
     ]
    }
   ],
   "source": [
    "hum_qual = hum_df[\"Quality\"].sum() / 9438\n",
    "hum_diff = hum_df[\"Difficulty\"].sum() / 9438\n",
    "stem_qual = stem_df[\"Quality\"].sum() / 7853\n",
    "stem_diff = stem_df[\"Difficulty\"].sum() / 7853\n",
    "\n",
    "print(\"Humanities Quality\", hum_qual)\n",
    "print(\"Humanities Difficulty\", hum_diff)\n",
    "print(\"Stem Quality\", stem_qual)\n",
    "print(\"Stem Difficulty\", stem_diff)"
   ]
  }
 ],
 "metadata": {
  "kernelspec": {
   "display_name": "Python 3 (ipykernel)",
   "language": "python",
   "name": "python3"
  },
  "language_info": {
   "codemirror_mode": {
    "name": "ipython",
    "version": 3
   },
   "file_extension": ".py",
   "mimetype": "text/x-python",
   "name": "python",
   "nbconvert_exporter": "python",
   "pygments_lexer": "ipython3",
   "version": "3.8.13"
  }
 },
 "nbformat": 4,
 "nbformat_minor": 5
}
