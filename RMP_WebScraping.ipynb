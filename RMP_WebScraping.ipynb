{
 "cells": [
  {
   "cell_type": "code",
   "execution_count": 19,
   "id": "b1916748",
   "metadata": {
    "scrolled": false
   },
   "outputs": [],
   "source": [
    "from selenium import webdriver\n",
    "from selenium.webdriver.common.keys import Keys\n",
    "from selenium.webdriver.common.by import By\n",
    "from selenium.webdriver.support.ui import WebDriverWait\n",
    "from selenium.webdriver.support import expected_conditions as EC\n",
    "from selenium.webdriver.common.action_chains import ActionChains\n",
    "import time\n",
    "import math"
   ]
  },
  {
   "cell_type": "code",
   "execution_count": 31,
   "id": "c827b373",
   "metadata": {},
   "outputs": [
    {
     "name": "stderr",
     "output_type": "stream",
     "text": [
      "C:\\Users\\leah7\\AppData\\Local\\Temp\\ipykernel_10108\\3522902804.py:2: DeprecationWarning: executable_path has been deprecated, please pass in a Service object\n",
      "  driver = webdriver.Chrome(PATH)\n"
     ]
    }
   ],
   "source": [
    "PATH = r\"C:\\Users\\leah7\\OneDrive\\Desktop\\Projects\\chromedriver.exe\"\n",
    "driver = webdriver.Chrome(PATH)\n",
    "driver.get(\"https://www.ratemyprofessors.com/professor?tid=9787\")\n",
    "#driver.get(\"https://www.ratemyprofessors.com/search/teachers?query=*&sid=298\")\n",
    "\n",
    "#closing cookie disclaimer\n",
    "cookie_button = driver.find_element(By.XPATH, \"//div[starts-with(@class, 'FullPageModal__')]//button\")\n",
    "cookie_button.click()\n",
    "\n",
    "#exits the browser\n",
    "#driver.quit()"
   ]
  },
  {
   "cell_type": "markdown",
   "id": "a070f82e",
   "metadata": {},
   "source": [
    "## Automate the load more button to show all reviews"
   ]
  },
  {
   "cell_type": "code",
   "execution_count": 32,
   "id": "066a0560",
   "metadata": {},
   "outputs": [],
   "source": [
    "num_ratings = driver.find_element(By.XPATH, \"//a[@href='#ratingsList']\")\n",
    "num_ratings = int(num_ratings.text.split()[0])"
   ]
  },
  {
   "cell_type": "code",
   "execution_count": 33,
   "id": "869da809",
   "metadata": {},
   "outputs": [
    {
     "name": "stdout",
     "output_type": "stream",
     "text": [
      "54\n"
     ]
    }
   ],
   "source": [
    "print(num_ratings)"
   ]
  },
  {
   "cell_type": "code",
   "execution_count": 34,
   "id": "635e30ca",
   "metadata": {},
   "outputs": [
    {
     "name": "stdout",
     "output_type": "stream",
     "text": [
      "4\n",
      "0\n",
      "1\n",
      "2\n",
      "3\n"
     ]
    }
   ],
   "source": [
    "click_total = math.ceil((num_ratings - 20) / 10)\n",
    "print(click_total)\n",
    "\n",
    "if click_total >= 1:\n",
    "    for i in range(click_total):\n",
    "        load_more_button = driver.find_element(By.XPATH, \"//button[text()='Load More Ratings']\")\n",
    "        \n",
    "        #get the y coordinate - 100 for browser to automatically scroll down to load more button\n",
    "        y = load_more_button.location[\"y\"] - 100\n",
    "        \n",
    "        #scroll down to page\n",
    "        driver.execute_script(f\"window.scrollTo(0, {y});\")\n",
    "        load_more_button.click()\n",
    "        \n",
    "        time.sleep(1)"
   ]
  },
  {
   "cell_type": "markdown",
   "id": "97300af1",
   "metadata": {},
   "source": [
    "## Collect Rate My Professor Review Data"
   ]
  },
  {
   "cell_type": "code",
   "execution_count": 46,
   "id": "e4db877f",
   "metadata": {},
   "outputs": [
    {
     "data": {
      "text/plain": [
       "'Cornell University'"
      ]
     },
     "execution_count": 46,
     "metadata": {},
     "output_type": "execute_result"
    }
   ],
   "source": [
    "professor_name = driver.find_element(By.XPATH, \"//div[starts-with(@class, 'NameTitle__Name')]\").text\n",
    "department = driver.find_element(By.XPATH, \"//div[starts-with(@class, 'NameTitle__Title')]//b\").text.split(\" department\")[:-1]\n",
    "department = \" \".join(department)\n",
    "university = driver.find_element(By.XPATH, \"//a[@href='/school?sid=298']\").text\n",
    "\n"
   ]
  },
  {
   "cell_type": "code",
   "execution_count": null,
   "id": "1f549f10",
   "metadata": {},
   "outputs": [],
   "source": [
    "#loads all professor reviews and collects all relevant information in page\n",
    "def getProfInfo():\n",
    "    return"
   ]
  },
  {
   "cell_type": "code",
   "execution_count": null,
   "id": "a807c74a",
   "metadata": {},
   "outputs": [],
   "source": [
    "#get all professor URLS and run getProfInfo()\n",
    "#loads all professors and collects data on all of them\n",
    "def getAllURLS():\n",
    "    return"
   ]
  }
 ],
 "metadata": {
  "kernelspec": {
   "display_name": "Python 3 (ipykernel)",
   "language": "python",
   "name": "python3"
  },
  "language_info": {
   "codemirror_mode": {
    "name": "ipython",
    "version": 3
   },
   "file_extension": ".py",
   "mimetype": "text/x-python",
   "name": "python",
   "nbconvert_exporter": "python",
   "pygments_lexer": "ipython3",
   "version": "3.8.13"
  }
 },
 "nbformat": 4,
 "nbformat_minor": 5
}
